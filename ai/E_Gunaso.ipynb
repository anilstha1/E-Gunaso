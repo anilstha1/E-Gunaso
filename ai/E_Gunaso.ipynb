{
  "cells": [
    {
      "cell_type": "markdown",
      "metadata": {
        "colab_type": "text",
        "id": "view-in-github"
      },
      "source": [
        "<a href=\"https://colab.research.google.com/github/thenaivekid/E-Gunaso/blob/main/E_Gunaso.ipynb\" target=\"_parent\"><img src=\"https://colab.research.google.com/assets/colab-badge.svg\" alt=\"Open In Colab\"/></a>"
      ]
    },
    {
      "cell_type": "markdown",
      "metadata": {
        "id": "uJg0GH-pRFZu"
      },
      "source": [
        "## Semantic sim between paraghraphs"
      ]
    },
    {
      "cell_type": "code",
      "execution_count": 14,
      "metadata": {
        "colab": {
          "background_save": true
        },
        "id": "oUVnePvyLJUH",
        "outputId": "26098e87-6cba-4745-920b-31dd484dd6eb"
      },
      "outputs": [
        {
          "name": "stderr",
          "output_type": "stream",
          "text": [
            "2023-12-23 17:28:57.942030: I tensorflow/core/util/port.cc:113] oneDNN custom operations are on. You may see slightly different numerical results due to floating-point round-off errors from different computation orders. To turn them off, set the environment variable `TF_ENABLE_ONEDNN_OPTS=0`.\n",
            "2023-12-23 17:28:58.888924: E external/local_xla/xla/stream_executor/cuda/cuda_dnn.cc:9261] Unable to register cuDNN factory: Attempting to register factory for plugin cuDNN when one has already been registered\n",
            "2023-12-23 17:28:58.889171: E external/local_xla/xla/stream_executor/cuda/cuda_fft.cc:607] Unable to register cuFFT factory: Attempting to register factory for plugin cuFFT when one has already been registered\n",
            "2023-12-23 17:28:59.334545: E external/local_xla/xla/stream_executor/cuda/cuda_blas.cc:1515] Unable to register cuBLAS factory: Attempting to register factory for plugin cuBLAS when one has already been registered\n",
            "2023-12-23 17:29:01.073460: I tensorflow/core/platform/cpu_feature_guard.cc:182] This TensorFlow binary is optimized to use available CPU instructions in performance-critical operations.\n",
            "To enable the following instructions: AVX2 AVX_VNNI FMA, in other operations, rebuild TensorFlow with the appropriate compiler flags.\n",
            "2023-12-23 17:29:05.225439: W tensorflow/compiler/tf2tensorrt/utils/py_utils.cc:38] TF-TRT Warning: Could not find TensorRT\n"
          ]
        },
        {
          "ename": "ModuleNotFoundError",
          "evalue": "No module named 'tensorflow_hub'",
          "output_type": "error",
          "traceback": [
            "\u001b[0;31m---------------------------------------------------------------------------\u001b[0m",
            "\u001b[0;31mModuleNotFoundError\u001b[0m                       Traceback (most recent call last)",
            "Cell \u001b[0;32mIn[14], line 2\u001b[0m\n\u001b[1;32m      1\u001b[0m \u001b[38;5;28;01mimport\u001b[39;00m \u001b[38;5;21;01mtensorflow\u001b[39;00m \u001b[38;5;28;01mas\u001b[39;00m \u001b[38;5;21;01mtf\u001b[39;00m\n\u001b[0;32m----> 2\u001b[0m \u001b[38;5;28;01mimport\u001b[39;00m \u001b[38;5;21;01mtensorflow_hub\u001b[39;00m \u001b[38;5;28;01mas\u001b[39;00m \u001b[38;5;21;01mhub\u001b[39;00m\n\u001b[1;32m      3\u001b[0m \u001b[38;5;28;01mfrom\u001b[39;00m \u001b[38;5;21;01mscipy\u001b[39;00m \u001b[38;5;28;01mimport\u001b[39;00m spatial\n\u001b[1;32m      5\u001b[0m \u001b[38;5;28;01mdef\u001b[39;00m \u001b[38;5;21mget_semantic_similarity\u001b[39m(paragraph1, paragraph2):\n\u001b[1;32m      6\u001b[0m     \u001b[38;5;66;03m# Load the Universal Sentence Encoder\u001b[39;00m\n",
            "\u001b[0;31mModuleNotFoundError\u001b[0m: No module named 'tensorflow_hub'"
          ]
        }
      ],
      "source": [
        "# import tensorflow as tf\n",
        "# import tensorflow_hub as hub\n",
        "# from scipy import spatial\n",
        "\n",
        "# def get_semantic_similarity(paragraph1, paragraph2):\n",
        "#     # Load the Universal Sentence Encoder\n",
        "#     embed = hub.load(\"https://tfhub.dev/google/universal-sentence-encoder/4\")\n",
        "\n",
        "#     # Convert paragraphs to embeddings\n",
        "#     embedding1 = embed([paragraph1])[0].numpy()\n",
        "#     embedding2 = embed([paragraph2])[0].numpy()\n",
        "\n",
        "#     # Calculate cosine similarity\n",
        "#     similarity = 1 - spatial.distance.cosine(embedding1, embedding2)\n",
        "\n",
        "#     return similarity\n",
        "\n",
        "# # Example usage\n",
        "# paragraph1 = \"Natural language processing is a field of artificial intelligence.\"\n",
        "# paragraph2 = \"AI techniques are used in natural language processing tasks.\"\n",
        "\n",
        "# similarity_score = get_semantic_similarity(paragraph1, paragraph2)\n",
        "# print(f\"Semantic Similarity Score: {similarity_score}\")\n"
      ]
    },
    {
      "cell_type": "code",
      "execution_count": null,
      "metadata": {
        "colab": {
          "background_save": true
        },
        "id": "3poIh7CyLvqA",
        "outputId": "dcabfadb-32d1-4570-f161-fc72772ba1ea"
      },
      "outputs": [
        {
          "name": "stdout",
          "output_type": "stream",
          "text": [
            "0.3755186200141907\n"
          ]
        }
      ],
      "source": [
        "# paragraph3 = \"CV is the field of AI that deals with the images and videos.\"\n",
        "# print(get_semantic_similarity(paragraph1, paragraph3))"
      ]
    },
    {
      "cell_type": "code",
      "execution_count": null,
      "metadata": {
        "colab": {
          "base_uri": "https://localhost:8080/"
        },
        "id": "o4bgaD_cQWjZ",
        "outputId": "13f5e2ab-69c8-44d6-c843-d8c1dc7a7fa2"
      },
      "outputs": [
        {
          "name": "stdout",
          "output_type": "stream",
          "text": [
            "-0.02105778455734253\n",
            "0.7266676425933838\n"
          ]
        }
      ],
      "source": [
        "# string1 = \"\"\"\n",
        "# I love Facebook.https://www.facebook.com I wanted an induction cooker and facebook\n",
        "# just showed me one at just <bold> Rs. 1000 </bold>. They cannot be reading\n",
        "# my private messages, can they? Wouldn't it violate my right to privacy?\"\"\"\n",
        "# string2 = \"\"\"\n",
        "# Natural language processing is a field of artificial intelligence.\n",
        "# AI techniques are used in natural language processing tasks.\n",
        "# CV is the field of AI that deals with the images and videos.\n",
        "# \"\"\"\n",
        "# string3 = \"\"\"I have a fondness for Facebook. I was in search of an induction cooker, and Facebook promptly presented one priced at only Rs. 1000. There's no way they could be going through my private messages, right? That would go against my privacy rights, wouldn't it?\"\"\"\n",
        "\n",
        "# print(get_semantic_similarity(string1,string2))\n",
        "# print(get_semantic_similarity(string1,string3))"
      ]
    },
    {
      "cell_type": "markdown",
      "metadata": {
        "id": "mlse_tiaM70v"
      },
      "source": [
        "## Preprocessing"
      ]
    },
    {
      "cell_type": "code",
      "execution_count": 16,
      "metadata": {
        "id": "vKYiR9yHSWWh"
      },
      "outputs": [],
      "source": [
        "import re\n"
      ]
    },
    {
      "cell_type": "code",
      "execution_count": 19,
      "metadata": {
        "colab": {
          "base_uri": "https://localhost:8080/"
        },
        "id": "ATOMq_WkM7Bw",
        "outputId": "a34d1e91-bb41-4eb7-bd90-131533a0b67a"
      },
      "outputs": [
        {
          "name": "stdout",
          "output_type": "stream",
          "text": [
            " i love facebook i wanted an induction cooker and facebook just showed me one at just bold rs bold they cannot be reading my private messages can they would not it violate my right to privacy \n"
          ]
        }
      ],
      "source": [
        "def clean_text(string):\n",
        "    # Removing URLs\n",
        "    string = re.sub(\"http\\S+\", \" \", string.lower())\n",
        "\n",
        "\n",
        "\n",
        "    # Decontraction\n",
        "    string = re.sub(r\"n\\'t\", \" not\", string)\n",
        "    string = re.sub(r\"\\'re\", \" are\", string)\n",
        "    string = re.sub(r\"\\'s\", \" is\", string)\n",
        "    string = re.sub(r\"\\'d\", \" would\", string)\n",
        "    string = re.sub(r\"\\'ll\", \" will\", string)\n",
        "    string = re.sub(r\"\\'t\", \" not\", string)\n",
        "    string = re.sub(r\"\\'ve\", \" have\", string)\n",
        "    string = re.sub(r\"\\'m\", \" am\", string)\n",
        "\n",
        "    # Removing Punctuations and numbers\n",
        "    string = re.sub('[^a-z]+', ' ', string)\n",
        "\n",
        "    return string\n",
        "string1 = \"\"\"\n",
        "I love Facebook.https://www.facebook.com I wanted an induction cooker and facebook\n",
        "just showed me one at just <bold> Rs. 1000 </bold>. They cannot be reading\n",
        "my private messages, can they? Wouldn't it violate my right to privacy?\"\"\"\n",
        "string = clean_text(string1)\n",
        "print(string)"
      ]
    },
    {
      "cell_type": "code",
      "execution_count": null,
      "metadata": {
        "colab": {
          "base_uri": "https://localhost:8080/"
        },
        "id": "_Z8V0sCrRmQz",
        "outputId": "782e270e-7350-461e-f1de-52d3f24b6d0e"
      },
      "outputs": [
        {
          "name": "stderr",
          "output_type": "stream",
          "text": [
            "[nltk_data] Downloading package punkt to /root/nltk_data...\n",
            "[nltk_data]   Package punkt is already up-to-date!\n",
            "[nltk_data] Downloading package wordnet to /root/nltk_data...\n",
            "[nltk_data]   Package wordnet is already up-to-date!\n",
            "[nltk_data] Downloading package stopwords to /root/nltk_data...\n",
            "[nltk_data]   Unzipping corpora/stopwords.zip.\n"
          ]
        },
        {
          "data": {
            "text/plain": [
              "True"
            ]
          },
          "execution_count": 22,
          "metadata": {},
          "output_type": "execute_result"
        }
      ],
      "source": [
        "import nltk\n",
        "nltk.download('punkt')\n",
        "nltk.download('wordnet')\n",
        "nltk.download('stopwords')"
      ]
    },
    {
      "cell_type": "code",
      "execution_count": 20,
      "metadata": {
        "colab": {
          "base_uri": "https://localhost:8080/"
        },
        "id": "iBtiP3EiRxoH",
        "outputId": "05bad3ee-3744-4770-cd3c-16a12082a8b4"
      },
      "outputs": [
        {
          "name": "stdout",
          "output_type": "stream",
          "text": [
            "['i', 'love', 'facebook', 'i', 'wanted', 'an', 'induction', 'cooker', 'and', 'facebook', 'just', 'showed', 'me', 'one', 'at', 'just', 'bold', 'rs', 'bold', 'they', 'can', 'not', 'be', 'reading', 'my', 'private', 'messages', 'can', 'they', 'would', 'not', 'it', 'violate', 'my', 'right', 'to', 'privacy']\n",
            "[' i love facebook i wanted an induction cooker and facebook just showed me one at just bold rs bold they cannot be reading my private messages can they would not it violate my right to privacy']\n"
          ]
        }
      ],
      "source": [
        "from nltk.tokenize import word_tokenize\n",
        "\n",
        "word_tokens = word_tokenize(string)\n",
        "print(word_tokens)\n",
        "\n",
        "from nltk.tokenize import sent_tokenize\n",
        "\n",
        "text = \"Is it raining? Do not forget to close the window if it is raining. I hate mopping the floor.\"\n",
        "\n",
        "sentence_tokens = sent_tokenize(string)\n",
        "print(sentence_tokens)"
      ]
    },
    {
      "cell_type": "markdown",
      "metadata": {},
      "source": []
    },
    {
      "cell_type": "code",
      "execution_count": null,
      "metadata": {
        "colab": {
          "base_uri": "https://localhost:8080/"
        },
        "id": "VljGyYOqS_gh",
        "outputId": "ef6e5a76-1d1e-4025-84a0-26c426e25349"
      },
      "outputs": [
        {
          "name": "stdout",
          "output_type": "stream",
          "text": [
            "['formul', 'and', 'formul', 'are', 'the', 'two', 'tens', 'of', 'formul']\n"
          ]
        }
      ],
      "source": [
        "from nltk.stem import PorterStemmer\n",
        "\n",
        "stemmer = PorterStemmer()\n",
        "tokens = ['Formulated', 'and', 'formulating', 'are', 'the', 'two', 'tenses', 'of', 'Formulate']\n",
        "tokens_stem = [stemmer.stem(token) for token in tokens]\n",
        "\n",
        "print(tokens_stem)"
      ]
    },
    {
      "cell_type": "code",
      "execution_count": null,
      "metadata": {
        "colab": {
          "base_uri": "https://localhost:8080/"
        },
        "id": "ySGTzWELTGUf",
        "outputId": "fc0a37fa-d802-49da-efb8-d7aa098c8347"
      },
      "outputs": [
        {
          "name": "stdout",
          "output_type": "stream",
          "text": [
            "['formulate', 'and', 'formulate', 'be', 'the', 'two', 'tense', 'of', 'formulate']\n"
          ]
        }
      ],
      "source": [
        "from nltk.stem import WordNetLemmatizer\n",
        "\n",
        "# Instantiating the WordNetLemmatizer\n",
        "lemmatizer = WordNetLemmatizer()\n",
        "\n",
        "# Lemmatizing each token in tokens\n",
        "tokens_lem = [lemmatizer.lemmatize(token.lower(), pos='v') for token in tokens]\n",
        "\n",
        "print(tokens_lem)"
      ]
    },
    {
      "cell_type": "code",
      "execution_count": null,
      "metadata": {
        "colab": {
          "base_uri": "https://localhost:8080/"
        },
        "id": "z92joCJ-TjPb",
        "outputId": "6b806ae2-3b91-435f-f708-6f1cbe26ae01"
      },
      "outputs": [
        {
          "data": {
            "text/plain": [
              "['formulate', 'formulate', 'two', 'tense', 'formulate']"
            ]
          },
          "execution_count": 24,
          "metadata": {},
          "output_type": "execute_result"
        }
      ],
      "source": [
        "from nltk.corpus import stopwords\n",
        "eng_stopwords = stopwords.words('english')\n",
        "stop_words_removed = [word for word in tokens_lem if word not in eng_stopwords]\n",
        "stop_words_removed"
      ]
    },
    {
      "cell_type": "markdown",
      "metadata": {
        "id": "HaZlg7DGa163"
      },
      "source": [
        "## dataset spliting"
      ]
    },
    {
      "cell_type": "code",
      "execution_count": null,
      "metadata": {
        "id": "XT10ZB9Ra1oe"
      },
      "outputs": [],
      "source": [
        "paragraphs = [\n",
        "    \"This is a positive sentence.\",\n",
        "    \"Negative sentiments can be challenging.\",\n",
        "    \"I love working with machine learning models.\",\n",
        "    \"Errors in the code can be frustrating.\",\n",
        "    \"Natural language processing is fascinating.\",\n",
        "    \"Debugging is an essential skill in programming.\",\n",
        "    \"Positive feedback motivates us to improve.\",\n",
        "    \"Dealing with bugs requires patience.\",\n",
        "]\n",
        "\n",
        "labels = [1, 0, 1, 0, 1, 0, 1, 0]"
      ]
    },
    {
      "cell_type": "code",
      "execution_count": null,
      "metadata": {
        "id": "d5BACPMfeSbb"
      },
      "outputs": [],
      "source": [
        "\n",
        "from sklearn.model_selection import train_test_split\n",
        "\n",
        "\n",
        "\n",
        "\n",
        "\n",
        "\n",
        "paragraph_embeddings = []\n",
        "for paragraph in paragraphs:\n",
        "    embeddings = [glove[word].numpy() for word in paragraph.split()]\n",
        "    if embeddings:\n",
        "        paragraph_embedding = np.mean(embeddings, axis=0)\n",
        "        paragraph_embeddings.append(paragraph_embedding)\n",
        "\n",
        "# Split data into train and test sets\n",
        "# X_train, X_test, y_train, y_test = train_test_split(paragraph_embeddings, labels, test_size=0.2, random_state=42)\n",
        "X_train, y_train = paragraph_embeddings, labels\n",
        "X_test, y_test = paragraph_embeddings, labels"
      ]
    },
    {
      "cell_type": "markdown",
      "metadata": {
        "id": "kmiUrXfya_xf"
      },
      "source": [
        "## vectorization"
      ]
    },
    {
      "cell_type": "code",
      "execution_count": null,
      "metadata": {
        "id": "rbFChPSaaz6o"
      },
      "outputs": [
        {
          "name": "stderr",
          "output_type": "stream",
          "text": [
            ".vector_cache/glove.6B.zip: 862MB [06:25, 2.24MB/s]                               \n",
            "100%|█████████▉| 399999/400000 [00:08<00:00, 45225.80it/s]\n"
          ]
        }
      ],
      "source": [
        "import torch\n",
        "import torchtext.vocab as vocab\n",
        "import numpy as np\n",
        "glove = vocab.GloVe(name='6B', dim=100)"
      ]
    },
    {
      "cell_type": "code",
      "execution_count": null,
      "metadata": {
        "colab": {
          "base_uri": "https://localhost:8080/"
        },
        "id": "O5lELnCEbG-V",
        "outputId": "2ad8a253-1945-4e09-ee3b-2bd79b940850"
      },
      "outputs": [
        {
          "name": "stdout",
          "output_type": "stream",
          "text": [
            "cat: [ 0.23, 0.28, 0.63,-0.59,-0.59, 0.63, 0.24,-0.14, 0.06,-0.79,-0.29, 0.14,\n",
            "  0.72, 0.2 , 0.14, 0.99, 0.53, 0.1 , 0.88, 0.51, 0.4 , 0.21,-0.01,-0.72,\n",
            "  0.55, 1.15,-0.88,-0.5 ,-0.23, 0.02, 0.11, 0.08, 0.55, 0.58, 0.76, 0.46,\n",
            " -0.28, 0.25, 0.69,-0.61, 0.2 , 0.04,-0.31,-0.69,-0.23, 0.46,-0.77, 0.1 ,\n",
            "  0.56, 0.07,-0.57, 0.24, 0.47, 0.83,-0.29,-1.34,-0.1 , 0.28, 0.42, 0.11,\n",
            "  0.62, 0.89,-0.23, 0.51, 0.99, 1.18,-0.16, 0.21, 0.74, 0.24,-0.96, 0.13,\n",
            " -0.01, 0.33,-0.12, 0.27,-0.41, 0.02,-0.61, 0.41, 0.2 ,-0.42, 0.19,-0.03,\n",
            " -0.79,-0.14, 0.04,-0.08, 0.05, 0.24, 0.45,-0.19, 0.46, 0.09,-0.18,-0.02,\n",
            " -0.74,-0.15, 0.15,-0.71]\n",
            "dog: [ 0.31, 0.31, 0.53,-0.93,-0.74, 0.63, 0.44, 0.1 ,-0.09,-0.57,-0.53, 0.2 ,\n",
            "  0.77,-0.14, 0.14, 1.11, 0.89,-0.18,-0.  , 0.57, 0.59, 0.5 ,-0.29,-1.35,\n",
            "  0.43, 1.27,-1.16,-0.41, 0.04, 0.55, 0.19, 0.38, 0.58, 0.67, 0.81, 0.94,\n",
            " -0.51,-0.07, 0.83,-0.35, 0.21,-0.24,-0.17,-0.78,-0.48, 0.39,-0.86,-0.02,\n",
            "  0.32,-0.49,-0.07, 0.02,-0.1 , 1.31,-0.12,-1.24,-0.09, 0.35, 0.65, 0.09,\n",
            "  0.7 , 1.12, 0.39, 0.52, 0.99, 0.8 ,-0.35, 0.14, 0.8 , 0.21,-0.86,-0.15,\n",
            "  0.07, 0.41, 0.02, 0.52,-0.34,-0.25,-0.78, 0.27, 0.22, 0.2 , 0.02,-0.01,\n",
            " -1.02,-0.4 ,-0.01, 0.31, 0.32, 0.02, 0.12,-0.11, 0.42, 0.53,-0.17,-0.27,\n",
            " -0.63, 0.13, 0.63,-0.52]\n",
            "tree: [-0.95, 1.19,-0.16,-0.07, 0.51, 0.32,-0.55, 0.07, 0.15,-0.55, 0.24, 0.52,\n",
            "  0.75, 0.25, 0.17, 0.62, 0.58, 0.51, 0.4 , 0.29,-0.86, 0.31, 0.51, 0.23,\n",
            "  0.79, 1.09,-0.38,-0.62,-0.32, 0.06,-0.06, 0.23, 1.36, 0.04, 0.16, 0.51,\n",
            " -0.59, 0.2 , 0.84,-0.29,-0.6 ,-0.4 , 0.25, 0.12, 0.32, 0.48, 0.07, 0.82,\n",
            " -0.44,-0.25,-0.66,-0.87, 0.18, 1.31,-0.11,-1.21,-0.35, 0.64, 1.66, 0.29,\n",
            "  0.36, 1.23,-0.15,-0.04, 0.33,-0.39,-0.37,-0.52, 0.51,-0.78,-0.94, 0.6 ,\n",
            "  0.01,-1.13, 0.18,-0.35, 0.71,-0.43,-0.45, 0.85, 0.22,-0.31,-0.6 ,-0.5 ,\n",
            " -0.1 ,-0.25, 0.29,-0.5 , 0.43, 1.13,-0.19,-0.92, 0.06, 0.63,-0.93,-0.81,\n",
            " -0.29,-1.1 , 0.92,-0.35]\n",
            "car: [-0.17,-0.54, 0.31,-0.53, 0.27,-0.14, 0.37, 0.68, 0.78, 0.68, 0.69, 0.21,\n",
            "  0.09, 0.25,-0.16, 0.46,-0.15, 0.26,-0.12, 0.59, 1.04,-0.21, 0.3 ,-0.34,\n",
            "  0.63,-0.32,-1.  ,-0.34, 0.25, 0.1 , 0.02, 0.55,-0.33, 0.3 , 0.41, 0.42,\n",
            "  0.26, 0.13, 0.8 , 0.62, 0.54,-0.59, 0.88,-0.06,-0.29, 0.62, 0.33, 0.14,\n",
            " -0.04,-1.18,-0.46, 0.16,-0.51, 1.24, 0.31,-1.96,-1.19, 1.2 , 2.11, 0.08,\n",
            "  0.54, 0.79, 0.35, 0.88, 0.54,-0.1 , 0.08,-0.46,-0.27, 0.12,-0.49,-0.61,\n",
            "  0.07,-0.58, 0.21, 0.62, 1.44,-0.34,-0.9 ,-0.7 , 0.74, 0.52,-0.19,-0.2 ,\n",
            " -0.22,-0.37,-0.35,-0.86,-0.89,-0.44, 0.19, 0.17, 0.44,-0.11,-0.51, 0.34,\n",
            " -0.1 , 0.4 , 1.73,-0.71]\n"
          ]
        }
      ],
      "source": [
        "words = ['cat', 'dog', 'tree', 'car']\n",
        "\n",
        "word_embeddings = [glove[word].numpy() for word in words]\n",
        "\n",
        "for i, word in enumerate(words):\n",
        "    print(f\"{word}: {np.array2string(word_embeddings[i], precision=2, separator=',')}\")\n",
        "\n"
      ]
    },
    {
      "cell_type": "markdown",
      "metadata": {
        "id": "c71dbwEcb_JN"
      },
      "source": [
        "## Cosine sim"
      ]
    },
    {
      "cell_type": "code",
      "execution_count": null,
      "metadata": {
        "id": "gMFFCWMzc4ut"
      },
      "outputs": [],
      "source": [
        "from sklearn.metrics.pairwise import cosine_similarity\n",
        "cosine_similarities = cosine_similarity(X_test, X_test)"
      ]
    },
    {
      "cell_type": "code",
      "execution_count": null,
      "metadata": {
        "colab": {
          "base_uri": "https://localhost:8080/"
        },
        "id": "m1H36gh8dNv7",
        "outputId": "42250753-013c-4761-dd24-017712ce4f0a"
      },
      "outputs": [
        {
          "name": "stdout",
          "output_type": "stream",
          "text": [
            "[[1.         0.7852882  0.763198   0.8521397  0.75382936 0.87369215\n",
            "  0.6699836  0.7124312 ]\n",
            " [0.7852882  0.99999976 0.72129476 0.8676375  0.68936086 0.75927603\n",
            "  0.7252264  0.67664254]\n",
            " [0.763198   0.72129476 1.0000001  0.80355966 0.7362871  0.8303437\n",
            "  0.67870355 0.7888758 ]\n",
            " [0.8521397  0.8676375  0.80355966 1.         0.795884   0.8879158\n",
            "  0.7080269  0.7914605 ]\n",
            " [0.75382936 0.68936086 0.7362871  0.795884   1.0000002  0.80611527\n",
            "  0.565284   0.6888329 ]\n",
            " [0.87369215 0.75927603 0.8303437  0.8879158  0.80611527 0.99999994\n",
            "  0.68031263 0.7568476 ]\n",
            " [0.6699836  0.7252264  0.67870355 0.7080269  0.565284   0.68031263\n",
            "  1.0000001  0.6550213 ]\n",
            " [0.7124312  0.67664254 0.7888758  0.7914605  0.6888329  0.7568476\n",
            "  0.6550213  0.9999999 ]]\n"
          ]
        }
      ],
      "source": [
        "print(cosine_similarities)"
      ]
    },
    {
      "cell_type": "markdown",
      "metadata": {
        "id": "T_JaqLs5eXGJ"
      },
      "source": [
        "## nearest neighbors"
      ]
    },
    {
      "cell_type": "code",
      "execution_count": null,
      "metadata": {
        "colab": {
          "base_uri": "https://localhost:8080/",
          "height": 1000
        },
        "id": "Be8ZawraeKjZ",
        "outputId": "88357947-54d6-4298-cae8-6314427b0e35"
      },
      "outputs": [
        {
          "data": {
            "image/png": "[encoded data removed]",
            "text/plain": [
              "<Figure size 640x480 with 1 Axes>"
            ]
          },
          "metadata": {},
          "output_type": "display_data"
        },
        {
          "data": {
            "image/png": "[encoded data removed]",
            "text/plain": [
              "<Figure size 640x480 with 1 Axes>"
            ]
          },
          "metadata": {},
          "output_type": "display_data"
        },
        {
          "name": "stdout",
          "output_type": "stream",
          "text": [
            "Community 1: [0]\n",
            "Community 2: [5]\n",
            "Community 3: [3]\n",
            "Community 4: [1]\n",
            "Community 5: [2]\n",
            "Community 6: [6]\n",
            "Community 7: [7]\n",
            "Community 8: [4]\n"
          ]
        }
      ],
      "source": [
        "import numpy as np\n",
        "import matplotlib.pyplot as plt\n",
        "from sklearn.neighbors import NearestNeighbors\n",
        "import networkx as nx\n",
        "\n",
        "\n",
        "plt.scatter([x[0] for x in paragraph_embeddings], [x[1] for x in paragraph_embeddings], alpha=0.5)\n",
        "plt.title('Paragraph Embeddings Visualization')\n",
        "plt.xlabel('Dimension 1')\n",
        "plt.ylabel('Dimension 2')\n",
        "plt.show()\n",
        "\n",
        "# Find the k nearest neighbors for each paragraph\n",
        "k_neighbors = 5\n",
        "knn_model = NearestNeighbors(n_neighbors=k_neighbors, metric='cosine')\n",
        "knn_model.fit(paragraph_embeddings)\n",
        "distances, indices = knn_model.kneighbors(paragraph_embeddings)\n",
        "\n",
        "# Visualize k-nearest neighbors graph\n",
        "G = nx.Graph()\n",
        "\n",
        "for i in range(len(paragraph_embeddings)):\n",
        "    for j in indices[i]:\n",
        "        G.add_edge(i, j, weight=1 - distances[i][np.where(indices[i] == j)][0])\n",
        "\n",
        "pos = nx.spring_layout(G)  # You can use other layout algorithms\n",
        "nx.draw(G, pos, with_labels=False, node_size=30)\n",
        "plt.title('K-Nearest Neighbors Graph')\n",
        "plt.show()\n",
        "\n",
        "# Identify dense regions in the graph using community detection\n",
        "communities = list(nx.community.label_propagation_communities(G))\n",
        "\n",
        "# Print paragraphs in each community (dense region)\n",
        "for idx, community in enumerate(communities):\n",
        "    print(f\"Community {idx + 1}: {list(community)}\")\n"
      ]
    },
    {
      "cell_type": "code",
      "execution_count": null,
      "metadata": {
        "colab": {
          "base_uri": "https://localhost:8080/",
          "height": 718
        },
        "id": "kSjN2Iq8gxgE",
        "outputId": "9b4f21d5-8c86-42a8-bdff-bea6c0b44637"
      },
      "outputs": [
        {
          "data": {
            "image/png": "[encoded data removed]",
            "text/plain": [
              "<Figure size 1000x800 with 1 Axes>"
            ]
          },
          "metadata": {},
          "output_type": "display_data"
        }
      ],
      "source": [
        "import numpy as np\n",
        "import matplotlib.pyplot as plt\n",
        "from sklearn.manifold import TSNE\n",
        "\n",
        "tsne = TSNE(n_components=2, perplexity=1, random_state=42)\n",
        "embeddings_all = tsne.fit_transform(np.array(paragraph_embeddings))\n",
        "\n",
        "# Visualize all components\n",
        "plt.figure(figsize=(10, 8))\n",
        "plt.scatter(embeddings_all[:, 0], embeddings_all[:, 1], alpha=0.5)\n",
        "plt.title('t-SNE Visualization of Paragraph Embeddings (All Components)')\n",
        "plt.xlabel('t-SNE Dimension 1')\n",
        "plt.ylabel('t-SNE Dimension 2')\n",
        "plt.show()"
      ]
    },
    {
      "cell_type": "markdown",
      "metadata": {
        "id": "yBJg2YszbIF_"
      },
      "source": [
        "## Training classifiers"
      ]
    },
    {
      "cell_type": "code",
      "execution_count": null,
      "metadata": {
        "colab": {
          "base_uri": "https://localhost:8080/"
        },
        "id": "lniJmcdUaMgS",
        "outputId": "e1137017-7007-4e00-88ea-2d9a040d978b"
      },
      "outputs": [
        {
          "name": "stdout",
          "output_type": "stream",
          "text": [
            "Accuracy: 1.0\n"
          ]
        }
      ],
      "source": [
        "import numpy as np\n",
        "from sklearn.svm import SVC\n",
        "from sklearn.metrics import accuracy_score\n",
        "\n",
        "# Train SVM classifier\n",
        "clf = SVC(kernel='linear')\n",
        "clf.fit(X_train, y_train)\n",
        "\n",
        "# Make predictions\n",
        "predictions = clf.predict(X_test)\n",
        "\n",
        "# Evaluate accuracy\n",
        "accuracy = accuracy_score(y_test, predictions)\n",
        "print(f'Accuracy: {accuracy}')\n"
      ]
    },
    {
      "cell_type": "markdown",
      "metadata": {},
      "source": [
        "# pinecone"
      ]
    },
    {
      "cell_type": "code",
      "execution_count": 21,
      "metadata": {},
      "outputs": [
        {
          "name": "stdout",
          "output_type": "stream",
          "text": [
            "832c3865-93e3-4c9f-9933-4eaa6db76d86\n"
          ]
        },
        {
          "data": {
            "text/plain": [
              "IndexDescription(name='ashokandsadhana', metric='cosine', replicas=1, dimension=100.0, shards=1, pods=1, pod_type='starter', status={'ready': True, 'state': 'Ready'}, metadata_config=None, source_collection='')"
            ]
          },
          "execution_count": 21,
          "metadata": {},
          "output_type": "execute_result"
        }
      ],
      "source": [
        "import pinecone\n",
        "import numpy as np\n",
        "import os\n",
        "\n",
        "from dotenv import load_dotenv\n",
        "\n",
        "load_dotenv()\n",
        "pinecone_api_key = os.environ.get(\"PINECONE_API_KEY\")\n",
        "print(pinecone_api_key)\n",
        "pinecone.init(api_key=pinecone_api_key, environment=\"gcp-starter\")\n",
        "index_name = 'ashokandsadhana'\n",
        "index = pinecone.Index(index_name)\n",
        "words = [\"apple\", \"ball\", \"cat\", \"dog\", \"egg\", \"frog\"]\n",
        "pinecone.describe_index(index_name)\n"
      ]
    },
    {
      "cell_type": "code",
      "execution_count": 22,
      "metadata": {},
      "outputs": [
        {
          "data": {
            "text/plain": [
              "<pinecone.index.Index at 0x7efe93ceb520>"
            ]
          },
          "execution_count": 22,
          "metadata": {},
          "output_type": "execute_result"
        }
      ],
      "source": [
        "index = pinecone.Index(index_name)\n",
        "index"
      ]
    },
    {
      "cell_type": "code",
      "execution_count": null,
      "metadata": {},
      "outputs": [
        {
          "ename": "NameError",
          "evalue": "name 'list_of_dicts' is not defined",
          "output_type": "error",
          "traceback": [
            "\u001b[0;31m---------------------------------------------------------------------------\u001b[0m",
            "\u001b[0;31mNameError\u001b[0m                                 Traceback (most recent call last)",
            "Cell \u001b[0;32mIn[3], line 2\u001b[0m\n\u001b[1;32m      1\u001b[0m index\u001b[38;5;241m.\u001b[39mupsert(\n\u001b[0;32m----> 2\u001b[0m     vectors\u001b[38;5;241m=\u001b[39m\u001b[43mlist_of_dicts\u001b[49m[:\u001b[38;5;241m1000\u001b[39m]\n\u001b[1;32m      3\u001b[0m )\n",
            "\u001b[0;31mNameError\u001b[0m: name 'list_of_dicts' is not defined"
          ]
        }
      ],
      "source": [
        "# index.upsert(\n",
        "#     vectors=list_of_dicts[:1000]\n",
        "# )"
      ]
    },
    {
      "cell_type": "code",
      "execution_count": 23,
      "metadata": {},
      "outputs": [
        {
          "data": {
            "text/plain": [
              "{'dimension': 100,\n",
              " 'index_fullness': 0.01,\n",
              " 'namespaces': {'': {'vector_count': 1000}},\n",
              " 'total_vector_count': 1000}"
            ]
          },
          "execution_count": 23,
          "metadata": {},
          "output_type": "execute_result"
        }
      ],
      "source": [
        "index.describe_index_stats()\n"
      ]
    },
    {
      "cell_type": "code",
      "execution_count": 24,
      "metadata": {},
      "outputs": [],
      "source": [
        "\n",
        "list_of_dicts = df.apply(lambda row: {\"id\": str(row[\"Unnamed: 0\"]), \"values\": row[\"encoding\"]}, axis=1).tolist()\n",
        "\n",
        "query = list_of_dicts[69][\"values\"]"
      ]
    },
    {
      "cell_type": "code",
      "execution_count": 30,
      "metadata": {},
      "outputs": [
        {
          "data": {
            "text/plain": [
              "float"
            ]
          },
          "execution_count": 30,
          "metadata": {},
          "output_type": "execute_result"
        }
      ],
      "source": [
        "query = [0.26688000559806824, 0.3963199853897095, 0.6169000267982483, -0.7745100259780884, -0.1039000004529953, 0.2669700086116791, 0.27880001068115234, 0.3099200129508972, 0.005468499846756458, -0.08525600284337997, 0.736020028591156, -0.09843199700117111, 0.5479000210762024, -0.03030500002205372, 0.3347899913787842, 0.14093999564647675, -0.0070003001019358635, 0.32569000124931335, 0.22901999950408936, 0.46557000279426575, -0.19530999660491943, 0.37490999698638916, -0.7139000296592712, -0.5177500247955322, 0.770389974117279, 1.0880999565124512, -0.6601099967956543, -0.16234000027179718, 0.911899983882904, 0.21046000719070435, 0.04749400168657303, 1.0018999576568604, 1.1132999658584595, 0.7009400129318237, -0.08696000277996063, 0.4757100045681, 0.16359999775886536, -0.4446899890899658, 0.44690001010894775, -0.9381700158119202, 0.013101000338792801, 0.08596400171518326, -0.674560010433197, 0.4966199994087219, -0.03782700002193451, -0.11038000136613846, -0.2861199975013733, 0.07460600137710571, -0.31527000665664673, -0.09377399832010269, -0.5706899762153625, 0.6686499714851379, 0.4530700147151947, -0.34154000878334045, -0.7166000008583069, -0.7527300119400024, 0.07521200180053711, 0.5790299773216248, -0.11909999698400497, -0.11378999799489975, -0.10025999695062637, 0.7134100198745728, -1.1574000120162964, -0.7402600049972534, 0.4045200049877167, 0.1802300065755844, 0.21448999643325806, 0.37637999653816223, 0.11238999664783478, -0.5363900065422058, -0.025092000141739845, 0.3188599944114685, -0.2501299977302551, -0.632830023765564, -0.0118429996073246, 1.3769999742507935, 0.8601300120353699, 0.20476000010967255, -0.368149995803833, -0.6887400150299072, 0.5351200103759766, -0.4655599892139435, 0.2738899886608124, 0.41179999709129333, -0.8539999723434448, -0.04628799855709076, 0.1130400002002716, -0.2732599973678589, 0.15636000037193298, -0.20333999395370483, 0.535860002040863, 0.5978400111198425, 0.6046900153160095, 0.13734999299049377, 0.42232000827789307, -0.6127899885177612, -0.38486000895500183, 0.3584200143814087, -0.4846400022506714, 0.3072800040245056]\n",
        "type(query[0])"
      ]
    },
    {
      "cell_type": "code",
      "execution_count": 31,
      "metadata": {},
      "outputs": [
        {
          "data": {
            "text/plain": [
              "{'matches': [{'id': '217', 'score': 0.283802599, 'values': []},\n",
              "             {'id': '8', 'score': 0.237614095, 'values': []},\n",
              "             {'id': '840', 'score': 0.215547204, 'values': []},\n",
              "             {'id': '842', 'score': 0.214266866, 'values': []},\n",
              "             {'id': '175', 'score': 0.201666728, 'values': []}],\n",
              " 'namespace': ''}"
            ]
          },
          "execution_count": 31,
          "metadata": {},
          "output_type": "execute_result"
        }
      ],
      "source": [
        "index.query(\n",
        "  vector=query,\n",
        "  top_k=5,\n",
        "  include_values=False\n",
        ")"
      ]
    },
    {
      "cell_type": "code",
      "execution_count": null,
      "metadata": {},
      "outputs": [
        {
          "data": {
            "text/plain": [
              "Unnamed: 0                                                   90\n",
              "Grievance     I encountered challenges in obtaining informat...\n",
              "label                                          foreign_ministry\n",
              "encoding      [-0.187874451, 0.0543290935, 0.225996926, 0.42...\n",
              "Name: 90, dtype: object"
            ]
          },
          "execution_count": 78,
          "metadata": {},
          "output_type": "execute_result"
        }
      ],
      "source": [
        "df.iloc[90]"
      ]
    },
    {
      "cell_type": "code",
      "execution_count": null,
      "metadata": {},
      "outputs": [
        {
          "data": {
            "text/plain": [
              "Unnamed: 0                                                  123\n",
              "Grievance     The embassy's lack of support for Nepali citiz...\n",
              "label                                          foreign_ministry\n",
              "encoding      [0.00313386694, 0.226090834, 0.0699685961, 0.0...\n",
              "Name: 123, dtype: object"
            ]
          },
          "execution_count": 79,
          "metadata": {},
          "output_type": "execute_result"
        }
      ],
      "source": [
        "df.iloc[123]"
      ]
    },
    {
      "cell_type": "code",
      "execution_count": null,
      "metadata": {},
      "outputs": [
        {
          "data": {
            "text/plain": [
              "'[-0.0592076  -0.08651191  0.2380215  -0.0291435   0.12400154  0.1348278\\n -0.23299901  0.42083701  0.06708561  0.01790501  0.04703379  0.07898229\\n  0.20935102  0.2006092  -0.04672151 -0.16981159  0.22127374  0.09512107\\n -0.2912475   0.1114728  -0.21788609 -0.1269789   0.1728616   0.30507955\\n  0.0815272  -0.1774821   0.07350001 -0.413445   -0.09120151  0.0796819\\n -0.0681458   0.15893899 -0.24634     0.07643611  0.02882589  0.449852\\n  0.0710917  -0.0539907  -0.04364104  0.02522792 -0.521658   -0.2731829\\n  0.56512046 -0.43065944  0.07862981  0.0328979  -0.10062462 -0.14309071\\n  0.166999   -0.44916672  0.3454998  -0.10947599  0.20323026  0.794272\\n  0.0053078  -1.5401905   0.0163311  -0.43596584  1.86723     0.5267387\\n -0.15958203  0.39608702 -0.10698501 -0.2570583   0.6786782   0.13641399\\n -0.256068    0.19694331  0.09937792 -0.1767036  -0.32318398 -0.21189447\\n -0.2152931  -0.3755292   0.409499    0.4548266  -0.2204288  -0.00689411\\n -0.965182   -0.23369348  0.719737   -0.1271112  -0.00793491  0.0904623\\n -1.171078    0.0799803   0.38000202 -0.055475   -0.2982302  -0.30860138\\n  0.08469181  0.1338483   0.0446027  -0.2641769  -0.271234    0.23989299\\n  0.14086299  0.00616349  0.50876606 -0.15295   ]'"
            ]
          },
          "execution_count": 1,
          "metadata": {},
          "output_type": "execute_result"
        }
      ],
      "source": [
        "import pandas as pd\n",
        "import re\n",
        "\n",
        "df = pd.read_csv(\"data.csv\")\n",
        "df.iloc[0][\"encoding\"]"
      ]
    },
    {
      "cell_type": "code",
      "execution_count": null,
      "metadata": {},
      "outputs": [],
      "source": [
        "pattern = re.compile(r\"[]\\[\\n]\")\n",
        "\n",
        "def to_list(string):\n",
        "    x1 = re.sub(pattern, \"\", string)\n",
        "    x1 = x1.split()\n",
        "    x1 = [float(i) for i in x1]\n",
        "    return x1"
      ]
    },
    {
      "cell_type": "code",
      "execution_count": null,
      "metadata": {},
      "outputs": [
        {
          "data": {
            "text/plain": [
              "100"
            ]
          },
          "execution_count": 33,
          "metadata": {},
          "output_type": "execute_result"
        }
      ],
      "source": [
        "x = '[-0.0592076  -0.08651191  0.2380215  -0.0291435   0.12400154  0.1348278\\n -0.23299901  0.42083701  0.06708561  0.01790501  0.04703379  0.07898229\\n  0.20935102  0.2006092  -0.04672151 -0.16981159  0.22127374  0.09512107\\n -0.2912475   0.1114728  -0.21788609 -0.1269789   0.1728616   0.30507955\\n  0.0815272  -0.1774821   0.07350001 -0.413445   -0.09120151  0.0796819\\n -0.0681458   0.15893899 -0.24634     0.07643611  0.02882589  0.449852\\n  0.0710917  -0.0539907  -0.04364104  0.02522792 -0.521658   -0.2731829\\n  0.56512046 -0.43065944  0.07862981  0.0328979  -0.10062462 -0.14309071\\n  0.166999   -0.44916672  0.3454998  -0.10947599  0.20323026  0.794272\\n  0.0053078  -1.5401905   0.0163311  -0.43596584  1.86723     0.5267387\\n -0.15958203  0.39608702 -0.10698501 -0.2570583   0.6786782   0.13641399\\n -0.256068    0.19694331  0.09937792 -0.1767036  -0.32318398 -0.21189447\\n -0.2152931  -0.3755292   0.409499    0.4548266  -0.2204288  -0.00689411\\n -0.965182   -0.23369348  0.719737   -0.1271112  -0.00793491  0.0904623\\n -1.171078    0.0799803   0.38000202 -0.055475   -0.2982302  -0.30860138\\n  0.08469181  0.1338483   0.0446027  -0.2641769  -0.271234    0.23989299\\n  0.14086299  0.00616349  0.50876606 -0.15295   ]'\n",
        "pattern = re.compile(r\"[]\\[\\n]\")\n",
        "x1 = re.sub(pattern, \"\", x)\n",
        "x1 = x1.split()\n",
        "x1 = [float(i) for i in x1]\n",
        "len(x1)"
      ]
    },
    {
      "cell_type": "code",
      "execution_count": null,
      "metadata": {},
      "outputs": [
        {
          "data": {
            "text/plain": [
              "0"
            ]
          },
          "execution_count": 46,
          "metadata": {},
          "output_type": "execute_result"
        }
      ],
      "source": [
        "df.iloc[0][\"Unnamed: 0\"]"
      ]
    },
    {
      "cell_type": "code",
      "execution_count": null,
      "metadata": {},
      "outputs": [],
      "source": [
        "\n",
        "list_of_dicts = df.apply(lambda row: {\"id\": str(row[\"Unnamed: 0\"]), \"values\": row[\"encoding\"]}, axis=1).tolist()\n",
        "\n",
        "query = list_of_dicts[90][\"values\"]"
      ]
    }
  ],
  "metadata": {
    "colab": {
      "authorship_tag": "ABX9TyOGlbsZrPmZTjBrq4DQQDe/",
      "include_colab_link": true,
      "provenance": []
    },
    "kernelspec": {
      "display_name": "Python 3",
      "name": "python3"
    },
    "language_info": {
      "codemirror_mode": {
        "name": "ipython",
        "version": 3
      },
      "file_extension": ".py",
      "mimetype": "text/x-python",
      "name": "python",
      "nbconvert_exporter": "python",
      "pygments_lexer": "ipython3",
      "version": "3.10.12"
    }
  },
  "nbformat": 4,
  "nbformat_minor": 0
}
